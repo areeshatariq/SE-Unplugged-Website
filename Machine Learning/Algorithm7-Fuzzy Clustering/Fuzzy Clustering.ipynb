{
 "cells": [
  {
   "cell_type": "code",
   "execution_count": 13,
   "metadata": {},
   "outputs": [
    {
     "name": "stdout",
     "output_type": "stream",
     "text": [
      "              Age      Gender  Results_Before  Results_After       Class  \\\n",
      "count  360.000000  360.000000      360.000000     360.000000  360.000000   \n",
      "mean     9.616667    1.630556        0.391667       0.752778    4.052778   \n",
      "std      1.287502    0.483326        0.488802       0.431997    0.619995   \n",
      "min      7.000000    1.000000        0.000000       0.000000    3.000000   \n",
      "25%      9.000000    1.000000        0.000000       1.000000    4.000000   \n",
      "50%     10.000000    2.000000        0.000000       1.000000    4.000000   \n",
      "75%     10.000000    2.000000        1.000000       1.000000    4.000000   \n",
      "max     14.000000    2.000000        1.000000       1.000000    5.000000   \n",
      "\n",
      "       Positive Outcomes  \n",
      "count         360.000000  \n",
      "mean            0.433333  \n",
      "std             0.496225  \n",
      "min             0.000000  \n",
      "25%             0.000000  \n",
      "50%             0.000000  \n",
      "75%             1.000000  \n",
      "max             1.000000  \n"
     ]
    }
   ],
   "source": [
    "from fcmeans import FCM\n",
    "# from sklearn.datasets import make_blobs\n",
    "from matplotlib import pyplot as plt\n",
    "from seaborn import scatterplot as scatter\n",
    "\n",
    "#Load libraries\n",
    "import pandas as pd\n",
    "import numpy as np\n",
    "import matplotlib.pyplot as plt\n",
    "%matplotlib inline\n",
    "#Load dataset\n",
    "data = pd.read_csv('../unplugged.csv')\n",
    "data.head()\n",
    "data.sample(frac=1)\n",
    "data = data[0:360]\n",
    "del data['Comments']\n",
    "\n",
    "# Assign int values to string\n",
    "gender = {'M': 1, 'F': 2}\n",
    "data.Gender = [gender[item] for item in data.Gender]\n",
    "\n",
    "after = {'F': 0, 'P': 1}\n",
    "data.Results_After   = [after[item] for item in data.Results_After]\n",
    "\n",
    "before = {'F': 0, 'P': 1}\n",
    "data.Results_Before   = [before[item] for item in data.Results_Before]\n",
    "\n",
    "outcome = {'F': 0, 'T': 1}\n",
    "data['Positive Outcomes'] = [outcome[item] for item in data['Positive Outcomes']]\n",
    "\n",
    "print(data.describe())\n",
    "\n",
    "data =  data[['Age', 'Gender', 'Class', 'Results_Before', 'Results_After','Positive Outcomes']]\n"
   ]
  },
  {
   "cell_type": "code",
   "execution_count": 16,
   "metadata": {},
   "outputs": [
    {
     "name": "stdout",
     "output_type": "stream",
     "text": [
      "         Age    Gender     Class  Results_Before  Results_After  \\\n",
      "0   8.541870  1.648975  3.854821        0.383108       0.759994   \n",
      "1  11.076359  1.546159  4.429160        0.303715       0.835830   \n",
      "2   9.558892  1.682314  3.997595        0.473521       0.718740   \n",
      "\n",
      "   Positive Outcomes  \n",
      "0           0.446511  \n",
      "1           0.565390  \n",
      "2           0.340044  \n"
     ]
    },
    {
     "data": {
      "text/plain": [
       "<matplotlib.axes._subplots.AxesSubplot at 0x7f30255bdfd0>"
      ]
     },
     "execution_count": 16,
     "metadata": {},
     "output_type": "execute_result"
    },
    {
     "data": {
      "image/png": "[encoded data removed]",
      "text/plain": [
       "<Figure size 792x360 with 2 Axes>"
      ]
     },
     "metadata": {
      "needs_background": "light"
     },
     "output_type": "display_data"
    }
   ],
   "source": [
    "\n",
    "# fit the fuzzy-c-means\n",
    "fcm = FCM(n_clusters=3)\n",
    "fcm.fit(data)\n",
    "\n",
    "# outputs\n",
    "fcm_centers = fcm.centers\n",
    "fcm_labels  = fcm.u.argmax(axis=1)\n",
    "\n",
    "print (fcm_centers)\n",
    "# data\n",
    "\n",
    "# plot result\n",
    "%matplotlib inline\n",
    "f, axes = plt.subplots(1, 2, figsize=(11,5))\n",
    "scatter(data['Age'], data['Gender'], ax=axes[0])\n",
    "scatter(data['Age'], data['Gender'], ax=axes[1], hue=fcm_labels)\n",
    "scatter(fcm_centers['Age'], fcm_centers['Gender'], ax=axes[1],marker=\"s\",s=100)\n",
    "# plt.show()"
   ]
  },
  {
   "cell_type": "code",
   "execution_count": null,
   "metadata": {},
   "outputs": [],
   "source": []
  }
 ],
 "metadata": {
  "kernelspec": {
   "display_name": "Python 3",
   "language": "python",
   "name": "python3"
  },
  "language_info": {
   "codemirror_mode": {
    "name": "ipython",
    "version": 3
   },
   "file_extension": ".py",
   "mimetype": "text/x-python",
   "name": "python",
   "nbconvert_exporter": "python",
   "pygments_lexer": "ipython3",
   "version": "3.7.3"
  }
 },
 "nbformat": 4,
 "nbformat_minor": 2
}
