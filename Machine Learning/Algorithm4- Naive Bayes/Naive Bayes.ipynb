{
 "cells": [
  {
   "cell_type": "code",
   "execution_count": 1,
   "metadata": {},
   "outputs": [],
   "source": [
    "#Load libraries\n",
    "import sys\n",
    "import pandas as pd\n",
    "import sklearn\n",
    "from sklearn.svm import SVC\n",
    "from sklearn.model_selection import train_test_split\n",
    "from sklearn.metrics import accuracy_score\n",
    "from sklearn.naive_bayes import MultinomialNB\n",
    "from sklearn.metrics import confusion_matrix\n",
    "from sklearn.metrics import roc_auc_score\n",
    "from sklearn.metrics import roc_curve\n",
    "import matplotlib.pyplot as plt"
   ]
  },
  {
   "cell_type": "code",
   "execution_count": 2,
   "metadata": {},
   "outputs": [
    {
     "name": "stdout",
     "output_type": "stream",
     "text": [
      "              Age      Gender  Results_Before  Results_After       Class\n",
      "count  360.000000  360.000000      360.000000     360.000000  360.000000\n",
      "mean     9.616667    1.630556        0.391667       0.752778    4.052778\n",
      "std      1.287502    0.483326        0.488802       0.431997    0.619995\n",
      "min      7.000000    1.000000        0.000000       0.000000    3.000000\n",
      "25%      9.000000    1.000000        0.000000       1.000000    4.000000\n",
      "50%     10.000000    2.000000        0.000000       1.000000    4.000000\n",
      "75%     10.000000    2.000000        1.000000       1.000000    4.000000\n",
      "max     14.000000    2.000000        1.000000       1.000000    5.000000\n"
     ]
    }
   ],
   "source": [
    "#Load dataset\n",
    "dataset = pd.read_csv(\"../unplugged.csv\")\n",
    "dataset.sample(frac=1)\n",
    "dataset = dataset[0:360]\n",
    "del dataset['Comments']\n",
    "# Assign int values to string\n",
    "gender = {'M': 1, 'F': 2}\n",
    "dataset.Gender = [gender[item] for item in dataset.Gender]\n",
    "\n",
    "after = {'F': 0, 'P': 1}\n",
    "dataset.Results_After   = [after[item] for item in dataset.Results_After]\n",
    "\n",
    "before = {'F': 0, 'P': 1}\n",
    "dataset.Results_Before   = [before[item] for item in dataset.Results_Before]\n",
    "\n",
    "print(dataset.describe())\n",
    "\n",
    "dataset =  dataset[['Age', 'Gender', 'Class', 'Results_Before', 'Results_After', 'Positive Outcomes']]"
   ]
  },
  {
   "cell_type": "code",
   "execution_count": 3,
   "metadata": {},
   "outputs": [],
   "source": [
    "#Split dataset into 80-20 ratio\n",
    "#80% train data, 20% test data\n",
    "array = dataset.values\n",
    "X = array[:,0:5]\n",
    "Y = array[:,5:]\n",
    "test_size = 0.2\n",
    "seed = 7\n",
    "X_train, X_test, Y_train, Y_test = train_test_split(X, Y, test_size=test_size, \n",
    "random_state=seed, stratify = dataset['Positive Outcomes'])"
   ]
  },
  {
   "cell_type": "code",
   "execution_count": 4,
   "metadata": {},
   "outputs": [],
   "source": [
    "# Alpha: used for laplace smoothing\n",
    "naiveBayes_classifier = MultinomialNB(alpha=0.00001)\n",
    "# Train the model\n",
    "naiveBayes_classifier.fit(X_train,Y_train.ravel())\n",
    "# Find Accuracy of the Model\n",
    "accuracy_3 = naiveBayes_classifier.score(X_test,Y_test)\n"
   ]
  },
  {
   "cell_type": "code",
   "execution_count": 5,
   "metadata": {},
   "outputs": [
    {
     "name": "stdout",
     "output_type": "stream",
     "text": [
      "0.9861111111111112\n"
     ]
    }
   ],
   "source": [
    "print (accuracy_3)"
   ]
  },
  {
   "cell_type": "code",
   "execution_count": 6,
   "metadata": {},
   "outputs": [],
   "source": [
    "models = []\n",
    "\n",
    "models.append(('NaiveBayes', naiveBayes_classifier))\n",
    "scoring = 'accuracy'\n",
    "results = []\n",
    "names = []\n"
   ]
  },
  {
   "cell_type": "code",
   "execution_count": 7,
   "metadata": {},
   "outputs": [
    {
     "name": "stdout",
     "output_type": "stream",
     "text": [
      "NaiveBayes: 0.937568 (0.052133)\n"
     ]
    }
   ],
   "source": [
    "# Apply K-Fold for cross checking the Model accuracy\n",
    "for name, model in models:\n",
    "\tkfold = sklearn.model_selection.KFold(n_splits=5,shuffle=False, random_state=None)\n",
    "\tcv_results = sklearn.model_selection.cross_val_score(model, X_train, Y_train.ravel(), cv=kfold, scoring=scoring)\n",
    "\tresults.append(cv_results)\n",
    "\tnames.append(name)\n",
    "\tmsg = \"%s: %f (%f)\" % (name, cv_results.mean(), cv_results.std())\n",
    "\tprint(msg)"
   ]
  },
  {
   "cell_type": "code",
   "execution_count": 8,
   "metadata": {},
   "outputs": [
    {
     "name": "stdout",
     "output_type": "stream",
     "text": [
      "0.9861111111111112\n",
      "['T' 'T' 'F' 'T' 'F' 'T' 'F' 'T' 'F' 'T' 'F' 'T' 'F' 'F' 'F' 'T' 'T' 'T'\n",
      " 'F' 'T' 'F' 'T' 'F' 'T' 'T' 'F' 'T' 'F' 'F' 'F' 'F' 'T' 'F' 'F' 'F' 'T'\n",
      " 'T' 'F' 'T' 'T' 'F' 'T' 'T' 'F' 'F' 'T' 'T' 'F' 'F' 'F' 'T' 'F' 'T' 'F'\n",
      " 'F' 'T' 'F' 'T' 'F' 'F' 'F' 'F' 'T' 'F' 'F' 'F' 'T' 'T' 'T' 'F' 'F' 'F']\n"
     ]
    }
   ],
   "source": [
    "clf = naiveBayes_classifier\n",
    "clf.fit(X_train, Y_train.ravel())\n",
    "#Predict using our trained model\n",
    "predictions = clf.predict(X_test)\n",
    "print(accuracy_score(Y_test, predictions))\n",
    "print (predictions)"
   ]
  },
  {
   "cell_type": "code",
   "execution_count": 9,
   "metadata": {},
   "outputs": [
    {
     "name": "stdout",
     "output_type": "stream",
     "text": [
      "[[40  1]\n",
      " [ 0 31]]\n"
     ]
    }
   ],
   "source": [
    "cm = confusion_matrix(Y_test, predictions)\n",
    "print (cm)"
   ]
  },
  {
   "cell_type": "code",
   "execution_count": 10,
   "metadata": {},
   "outputs": [
    {
     "name": "stdout",
     "output_type": "stream",
     "text": [
      "AUC: 0.988\n"
     ]
    },
    {
     "data": {
      "image/png": "[encoded data removed]",
      "text/plain": [
       "<Figure size 432x288 with 1 Axes>"
      ]
     },
     "metadata": {
      "needs_background": "light"
     },
     "output_type": "display_data"
    }
   ],
   "source": [
    "testy = []\n",
    "probsy = []\n",
    "probs = predictions[:]\n",
    "for i in range(len(probs)):\n",
    "    if (probs[i] == 'F'):\n",
    "        probsy.append(0)\n",
    "    else:\n",
    "        probsy.append(1)\n",
    "#     print(i)\n",
    "for i in range(len(Y_test)):\n",
    "    if (Y_test[i][0] == 'F'):\n",
    "        testy.append(0)\n",
    "    else:\n",
    "        testy.append(1)\n",
    "#     print (i)\n",
    "# calculate AUC\n",
    "auc = roc_auc_score(testy, probsy)\n",
    "print('AUC: %.3f' % auc)\n",
    "# calculate roc curve\n",
    "fpr, tpr, thresholds = roc_curve(testy, probsy)\n",
    "plt.plot([0, 1], [0, 1], linestyle='--')\n",
    "# plot the roc curve for the model\n",
    "plt.plot(fpr, tpr, marker='.')\n",
    "# show the plot\n",
    "plt.show()"
   ]
  },
  {
   "cell_type": "markdown",
   "metadata": {},
   "source": [
    "## Percentages of entities in their respective sample"
   ]
  },
  {
   "cell_type": "code",
   "execution_count": 11,
   "metadata": {},
   "outputs": [
    {
     "data": {
      "text/plain": [
       "99"
      ]
     },
     "execution_count": 11,
     "metadata": {},
     "output_type": "execute_result"
    }
   ],
   "source": [
    "\n",
    "Age_7 = dataset.loc[dataset.Age == 7, 'Age'].count()\n",
    "Age_8 = dataset.loc[dataset.Age == 8, 'Age'].count()\n",
    "Age_9 = dataset.loc[dataset.Age == 9, 'Age'].count()\n",
    "Age_10 = dataset.loc[dataset.Age == 10, 'Age'].count()\n",
    "Age_11 = dataset.loc[dataset.Age == 11, 'Age'].count()\n",
    "Age_12 = dataset.loc[dataset.Age == 12, 'Age'].count()\n",
    "Age_13 = dataset.loc[dataset.Age == 13, 'Age'].count()\n",
    "Age_14 = dataset.loc[dataset.Age == 14, 'Age'].count()\n",
    "\n",
    "Age_10"
   ]
  },
  {
   "cell_type": "code",
   "execution_count": 12,
   "metadata": {},
   "outputs": [
    {
     "data": {
      "text/plain": [
       "0.275"
      ]
     },
     "execution_count": 12,
     "metadata": {},
     "output_type": "execute_result"
    }
   ],
   "source": [
    "\n",
    "P_Age_7 = Age_7 / (Age_7 + Age_8 + Age_9 + Age_10 + Age_11 + Age_12 + Age_13 + Age_14)\n",
    "P_Age_8 = Age_8 / (Age_7 + Age_8 + Age_9 + Age_10 + Age_11 + Age_12 + Age_13 + Age_14)\n",
    "P_Age_9 = Age_9 / (Age_7 + Age_8 + Age_9 + Age_10 + Age_11 + Age_12 + Age_13 + Age_14)\n",
    "P_Age_10 = Age_10 / (Age_7 + Age_8 + Age_9 + Age_10 + Age_11 + Age_12 + Age_13 + Age_14)\n",
    "P_Age_11 = Age_11 / (Age_7 + Age_8 + Age_9 + Age_10 + Age_11 + Age_12 + Age_13 + Age_14)\n",
    "P_Age_12 = Age_12 / (Age_7 + Age_8 + Age_9 + Age_10 + Age_11 + Age_12 + Age_13 + Age_14)\n",
    "P_Age_13 = Age_13 / (Age_7 + Age_8 + Age_9 + Age_10 + Age_11 + Age_12 + Age_13 + Age_14)\n",
    "P_Age_14 = Age_14 / (Age_7 + Age_8 + Age_9 + Age_10 + Age_11 + Age_12 + Age_13 + Age_14)\n",
    "\n",
    "P_Age_10\n"
   ]
  },
  {
   "cell_type": "code",
   "execution_count": 13,
   "metadata": {},
   "outputs": [],
   "source": [
    "Gender_M = dataset.loc[dataset.Gender == 1, 'Gender'].count()\n",
    "Gender_F = dataset.loc[dataset.Gender == 2, 'Gender'].count()\n"
   ]
  },
  {
   "cell_type": "code",
   "execution_count": 14,
   "metadata": {},
   "outputs": [],
   "source": [
    "P_Gender_M =  Gender_M/(Gender_M + Gender_F)\n",
    "P_Gender_F =  Gender_F/(Gender_M + Gender_F)"
   ]
  },
  {
   "cell_type": "code",
   "execution_count": 15,
   "metadata": {},
   "outputs": [],
   "source": [
    "Class_4 = dataset.loc[dataset.Class == 4, 'Class'].count()\n",
    "Class_5 = dataset.loc[dataset.Class == 5, 'Class'].count()\n",
    "Class_3 = dataset.loc[dataset.Class == 3, 'Class'].count()\n"
   ]
  },
  {
   "cell_type": "code",
   "execution_count": 16,
   "metadata": {},
   "outputs": [],
   "source": [
    "P_Class_3 =  Class_3/(Class_4 + Class_5 + Class_3)\n",
    "P_Class_4 =  Class_4/(Class_4 + Class_5 + Class_3)\n",
    "P_Class_5 =  Class_5/(Class_4 + Class_5 + Class_3)"
   ]
  },
  {
   "cell_type": "code",
   "execution_count": 17,
   "metadata": {},
   "outputs": [],
   "source": [
    "Results_After_P = dataset.loc[dataset.Results_After == 1, 'Results_After'].count()\n",
    "Results_After_F = dataset.loc[dataset.Results_After == 0, 'Results_After'].count()\n",
    "P_Results_After_P =  Results_After_P/(Results_After_P + Results_After_F)\n",
    "P_Results_After_F =  Results_After_F/(Results_After_P + Results_After_F)"
   ]
  },
  {
   "cell_type": "code",
   "execution_count": 18,
   "metadata": {},
   "outputs": [],
   "source": [
    "Results_Before_P = dataset.loc[dataset.Results_Before == 1, 'Results_Before'].count()\n",
    "Results_Before_F = dataset.loc[dataset.Results_Before == 0, 'Results_Before'].count()\n",
    "P_Results_Before_P =  Results_Before_P/(Results_Before_P + Results_Before_F)\n",
    "P_Results_Before_F =  Results_Before_F/(Results_Before_P + Results_Before_F)"
   ]
  },
  {
   "cell_type": "code",
   "execution_count": 19,
   "metadata": {},
   "outputs": [],
   "source": [
    "Positive_Outcomes_T = dataset.loc[dataset['Positive Outcomes'] == 'T', 'Positive Outcomes'].count()\n",
    "Positive_Outcomes_F = dataset.loc[dataset['Positive Outcomes'] == 'F', 'Positive Outcomes'].count()\n",
    "P_Positive_Outcomes_T =  Positive_Outcomes_T/(Positive_Outcomes_T + Positive_Outcomes_F)\n",
    "P_Positive_Outcomes_F =  Positive_Outcomes_F/(Positive_Outcomes_T + Positive_Outcomes_F)"
   ]
  }
 ],
 "metadata": {
  "kernelspec": {
   "display_name": "Python 3",
   "language": "python",
   "name": "python3"
  },
  "language_info": {
   "codemirror_mode": {
    "name": "ipython",
    "version": 3
   },
   "file_extension": ".py",
   "mimetype": "text/x-python",
   "name": "python",
   "nbconvert_exporter": "python",
   "pygments_lexer": "ipython3",
   "version": "3.7.3"
  }
 },
 "nbformat": 4,
 "nbformat_minor": 2
}
